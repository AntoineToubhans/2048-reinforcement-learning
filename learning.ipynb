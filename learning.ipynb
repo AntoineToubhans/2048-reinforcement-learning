{
 "cells": [
  {
   "cell_type": "markdown",
   "metadata": {},
   "source": [
    "# 2048 Reinforcement learning"
   ]
  },
  {
   "cell_type": "code",
   "execution_count": 1,
   "metadata": {},
   "outputs": [
    {
     "name": "stdout",
     "output_type": "stream",
     "text": [
      "Populating the interactive namespace from numpy and matplotlib\n"
     ]
    }
   ],
   "source": [
    "import numpy as np\n",
    "import pandas as pd\n",
    "import time\n",
    "\n",
    "import matplotlib.pyplot as plt\n",
    "%matplotlib inline\n",
    "\n",
    "import seaborn as sns\n",
    "sns.set()\n",
    "\n",
    "%pylab inline\n",
    "pylab.rcParams['figure.figsize'] = (20, 10)"
   ]
  },
  {
   "cell_type": "code",
   "execution_count": 2,
   "metadata": {
    "collapsed": true
   },
   "outputs": [],
   "source": [
    "from model.game import Game2048, UP, DOWN, LEFT, RIGHT\n",
    "from player import play_many"
   ]
  },
  {
   "cell_type": "markdown",
   "metadata": {},
   "source": [
    "## Hard-coded strategie"
   ]
  },
  {
   "cell_type": "code",
   "execution_count": 3,
   "metadata": {
    "collapsed": true
   },
   "outputs": [],
   "source": [
    "class RandomStrategy:\n",
    "    def get_action(self, game):\n",
    "        return np.random.randint(4)"
   ]
  },
  {
   "cell_type": "code",
   "execution_count": 4,
   "metadata": {
    "collapsed": true
   },
   "outputs": [],
   "source": [
    "class DumbStrategy:\n",
    "    def Q(self, game, direction):\n",
    "        grid = game.grid\n",
    "        if game.can_move(direction):\n",
    "            if direction == UP:\n",
    "                return grid[0:2].sum()\n",
    "            if direction == DOWN:\n",
    "                return grid[2:4].sum()\n",
    "            if direction == LEFT:\n",
    "                return grid[:,0:2].sum()\n",
    "            if direction == RIGHT:\n",
    "                return grid[:,2:4].sum()\n",
    "            \n",
    "        return -1\n",
    "    \n",
    "    def get_action(self, game):\n",
    "        return np.argmax([\n",
    "            self.Q(game, UP),\n",
    "            self.Q(game, RIGHT),\n",
    "            self.Q(game, DOWN),\n",
    "            self.Q(game, LEFT),\n",
    "        ])"
   ]
  },
  {
   "cell_type": "code",
   "execution_count": 5,
   "metadata": {
    "collapsed": true
   },
   "outputs": [],
   "source": [
    "class CountMergedTileStrategy:\n",
    "    def Q(self, game, direction):\n",
    "        game0 = game.copy()\n",
    "        moved, score = game0.play(direction)\n",
    "\n",
    "        if moved == 0:\n",
    "            return -1\n",
    "\n",
    "        return 16 - np.count_nonzero(game0._grid)\n",
    "    \n",
    "    def get_action(self, game):\n",
    "        return np.argmax([\n",
    "            self.Q(game, UP),\n",
    "            self.Q(game, RIGHT),\n",
    "            self.Q(game, DOWN),\n",
    "            self.Q(game, LEFT),\n",
    "        ])"
   ]
  },
  {
   "cell_type": "code",
   "execution_count": 6,
   "metadata": {
    "collapsed": true
   },
   "outputs": [],
   "source": [
    "class OneStepScoreStrategy:\n",
    "    def Q(self, game, direction):\n",
    "        game0 = game.copy()\n",
    "        moved, score = game0.play(direction)\n",
    "\n",
    "        if moved == 0:\n",
    "            return -1\n",
    "\n",
    "        return score\n",
    "    \n",
    "    def get_action(self, game):\n",
    "        return np.argmax([\n",
    "            self.Q(game, UP),\n",
    "            self.Q(game, RIGHT),\n",
    "            self.Q(game, DOWN),\n",
    "            self.Q(game, LEFT),\n",
    "        ])"
   ]
  },
  {
   "cell_type": "code",
   "execution_count": 19,
   "metadata": {},
   "outputs": [],
   "source": [
    "class NStepScoreStrategy:\n",
    "    N = 2\n",
    "    GAMMA = 1\n",
    "    \n",
    "    def V(self, game, iter_idx):\n",
    "        if iter_idx == 0:\n",
    "            return 0\n",
    "        \n",
    "        return np.max([\n",
    "            self.Q(game, UP, iter_idx),\n",
    "            self.Q(game, RIGHT, iter_idx),\n",
    "            self.Q(game, DOWN, iter_idx),\n",
    "            self.Q(game, LEFT, iter_idx),\n",
    "        ])\n",
    "    \n",
    "    def Q(self, game, direction, iter_idx=None):\n",
    "        if iter_idx is None:\n",
    "            iter_idx = self.N\n",
    "\n",
    "        game0 = game.copy()\n",
    "        moved, score = game0.play(direction)\n",
    "\n",
    "        if moved == 0:\n",
    "            return -1\n",
    "\n",
    "        v = self.V(game, iter_idx - 1)\n",
    "        \n",
    "        return score + self.GAMMA * v\n",
    "    \n",
    "    def get_action(self, game):\n",
    "        return np.argmax([\n",
    "            self.Q(game, UP),\n",
    "            self.Q(game, RIGHT),\n",
    "            self.Q(game, DOWN),\n",
    "            self.Q(game, LEFT),\n",
    "        ])"
   ]
  },
  {
   "cell_type": "code",
   "execution_count": 23,
   "metadata": {},
   "outputs": [
    {
     "name": "stdout",
     "output_type": "stream",
     "text": [
      "CPU times: user 1min 5s, sys: 63.3 ms, total: 1min 5s\n",
      "Wall time: 1min 5s\n"
     ]
    }
   ],
   "source": [
    "%%time\n",
    "\n",
    "#strategy = RandomStrategy()\n",
    "# strategy = DumbStrategy()\n",
    "# strategy = CountMergedTileStrategy()\n",
    "# strategy = OneStepScoreStrategy()\n",
    "strategy = NStepScoreStrategy()\n",
    "\n",
    "df = play_many(100, strategy)"
   ]
  },
  {
   "cell_type": "code",
   "execution_count": 24,
   "metadata": {},
   "outputs": [
    {
     "data": {
      "text/html": [
       "<div>\n",
       "<style scoped>\n",
       "    .dataframe tbody tr th:only-of-type {\n",
       "        vertical-align: middle;\n",
       "    }\n",
       "\n",
       "    .dataframe tbody tr th {\n",
       "        vertical-align: top;\n",
       "    }\n",
       "\n",
       "    .dataframe thead th {\n",
       "        text-align: right;\n",
       "    }\n",
       "</style>\n",
       "<table border=\"1\" class=\"dataframe\">\n",
       "  <thead>\n",
       "    <tr style=\"text-align: right;\">\n",
       "      <th></th>\n",
       "      <th>score</th>\n",
       "      <th>max_tile</th>\n",
       "      <th>moves</th>\n",
       "    </tr>\n",
       "  </thead>\n",
       "  <tbody>\n",
       "    <tr>\n",
       "      <th>count</th>\n",
       "      <td>100.000000</td>\n",
       "      <td>100.000000</td>\n",
       "      <td>100.000000</td>\n",
       "    </tr>\n",
       "    <tr>\n",
       "      <th>mean</th>\n",
       "      <td>3267.920000</td>\n",
       "      <td>249.600000</td>\n",
       "      <td>271.270000</td>\n",
       "    </tr>\n",
       "    <tr>\n",
       "      <th>std</th>\n",
       "      <td>1533.286532</td>\n",
       "      <td>139.299256</td>\n",
       "      <td>90.548592</td>\n",
       "    </tr>\n",
       "    <tr>\n",
       "      <th>min</th>\n",
       "      <td>832.000000</td>\n",
       "      <td>64.000000</td>\n",
       "      <td>110.000000</td>\n",
       "    </tr>\n",
       "    <tr>\n",
       "      <th>25%</th>\n",
       "      <td>1963.000000</td>\n",
       "      <td>128.000000</td>\n",
       "      <td>193.000000</td>\n",
       "    </tr>\n",
       "    <tr>\n",
       "      <th>50%</th>\n",
       "      <td>3250.000000</td>\n",
       "      <td>256.000000</td>\n",
       "      <td>274.500000</td>\n",
       "    </tr>\n",
       "    <tr>\n",
       "      <th>75%</th>\n",
       "      <td>3814.000000</td>\n",
       "      <td>256.000000</td>\n",
       "      <td>318.000000</td>\n",
       "    </tr>\n",
       "    <tr>\n",
       "      <th>max</th>\n",
       "      <td>7280.000000</td>\n",
       "      <td>512.000000</td>\n",
       "      <td>499.000000</td>\n",
       "    </tr>\n",
       "  </tbody>\n",
       "</table>\n",
       "</div>"
      ],
      "text/plain": [
       "             score    max_tile       moves\n",
       "count   100.000000  100.000000  100.000000\n",
       "mean   3267.920000  249.600000  271.270000\n",
       "std    1533.286532  139.299256   90.548592\n",
       "min     832.000000   64.000000  110.000000\n",
       "25%    1963.000000  128.000000  193.000000\n",
       "50%    3250.000000  256.000000  274.500000\n",
       "75%    3814.000000  256.000000  318.000000\n",
       "max    7280.000000  512.000000  499.000000"
      ]
     },
     "execution_count": 24,
     "metadata": {},
     "output_type": "execute_result"
    }
   ],
   "source": [
    "df.describe()"
   ]
  },
  {
   "cell_type": "code",
   "execution_count": 31,
   "metadata": {},
   "outputs": [
    {
     "data": {
      "text/plain": [
       "25758"
      ]
     },
     "execution_count": 31,
     "metadata": {},
     "output_type": "execute_result"
    }
   ],
   "source": [
    "df.moves.sum()"
   ]
  },
  {
   "cell_type": "code",
   "execution_count": 25,
   "metadata": {},
   "outputs": [
    {
     "data": {
      "text/plain": [
       "<matplotlib.axes._subplots.AxesSubplot at 0x7f61d128e668>"
      ]
     },
     "execution_count": 25,
     "metadata": {},
     "output_type": "execute_result"
    },
    {
     "data": {
      "image/png": "[encoded data removed]",
      "text/plain": [
       "<matplotlib.figure.Figure at 0x7f61d128cdd8>"
      ]
     },
     "metadata": {},
     "output_type": "display_data"
    }
   ],
   "source": [
    "df.score.plot(kind='hist', bins=50)"
   ]
  },
  {
   "cell_type": "code",
   "execution_count": 26,
   "metadata": {},
   "outputs": [
    {
     "data": {
      "text/plain": [
       "<matplotlib.axes._subplots.AxesSubplot at 0x7f61cf2217b8>"
      ]
     },
     "execution_count": 26,
     "metadata": {},
     "output_type": "execute_result"
    },
    {
     "data": {
      "image/png": "[encoded data removed]",
      "text/plain": [
       "<matplotlib.figure.Figure at 0x7f61cf183208>"
      ]
     },
     "metadata": {},
     "output_type": "display_data"
    }
   ],
   "source": [
    "df.groupby(df.max_tile).score.count().plot.bar()"
   ]
  },
  {
   "cell_type": "code",
   "execution_count": 27,
   "metadata": {},
   "outputs": [
    {
     "data": {
      "text/plain": [
       "max_tile\n",
       "64      6\n",
       "128    32\n",
       "256    44\n",
       "512    18\n",
       "Name: score, dtype: int64"
      ]
     },
     "execution_count": 27,
     "metadata": {},
     "output_type": "execute_result"
    }
   ],
   "source": [
    "df.groupby(df.max_tile).score.count()"
   ]
  }
 ],
 "metadata": {
  "kernelspec": {
   "display_name": "Python 3",
   "language": "python",
   "name": "python3"
  },
  "language_info": {
   "codemirror_mode": {
    "name": "ipython",
    "version": 3
   },
   "file_extension": ".py",
   "mimetype": "text/x-python",
   "name": "python",
   "nbconvert_exporter": "python",
   "pygments_lexer": "ipython3",
   "version": "3.6.2"
  }
 },
 "nbformat": 4,
 "nbformat_minor": 2
}
